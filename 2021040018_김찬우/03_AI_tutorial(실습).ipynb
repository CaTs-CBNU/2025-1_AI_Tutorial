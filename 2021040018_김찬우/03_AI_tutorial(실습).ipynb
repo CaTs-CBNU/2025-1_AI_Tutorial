{
  "nbformat": 4,
  "nbformat_minor": 0,
  "metadata": {
    "colab": {
      "provenance": []
    },
    "kernelspec": {
      "name": "python3",
      "display_name": "Python 3"
    },
    "language_info": {
      "name": "python"
    }
  },
  "cells": [
    {
      "cell_type": "markdown",
      "source": [
        "## **데이터셋 로드**\n"
      ],
      "metadata": {
        "id": "azGJN96jcv8w"
      }
    },
    {
      "cell_type": "code",
      "execution_count": 1,
      "metadata": {
        "id": "7k29pS01bMov"
      },
      "outputs": [],
      "source": [
        "import torch\n",
        "from torchvision import datasets, transforms\n",
        "\n",
        "# 데이터 -> Pytorch 텐서 변환기\n",
        "transform = transforms.ToTensor()\n",
        "\n",
        "# Seed 고정\n",
        "g = torch.Generator()\n",
        "g.manual_seed(42)\n",
        "\n",
        "# MNIST 훈련/테스트 데이터셋 로드\n",
        "train_set = datasets.MNIST(root='./data', train=True, download=True, transform=transform)\n",
        "test_set = datasets.MNIST(root='./data', train=False, download=True, transform=transform)\n",
        "train_loader = torch.utils.data.DataLoader(train_set, batch_size=64, shuffle=True, generator=g)\n",
        "test_loader = torch.utils.data.DataLoader(test_set, batch_size=64, shuffle=True, generator=g)\n"
      ]
    },
    {
      "cell_type": "markdown",
      "source": [
        "## **신경망 모델 정의**"
      ],
      "metadata": {
        "id": "_Cu0daZOc1iE"
      }
    },
    {
      "cell_type": "code",
      "source": [
        "import torch.nn as nn\n",
        "\n",
        "model = nn.Sequential(\n",
        "    nn.Flatten(), # 이미지(28x28) -> 벡터(784)\n",
        "    nn.Linear(784, 128),\n",
        "    nn.ReLU(), # 비선형 문제 처리를 위한 활성화 함수\n",
        "    nn.Linear(128, 10) # 10개의 숫자 분류를 위한 출력층\n",
        ")"
      ],
      "metadata": {
        "id": "POPAsbP8bPB1"
      },
      "execution_count": 2,
      "outputs": []
    },
    {
      "cell_type": "markdown",
      "source": [
        "## **손실 함수 및 최적화 함수 설정**"
      ],
      "metadata": {
        "id": "0eJTi8Mhc9BR"
      }
    },
    {
      "cell_type": "code",
      "source": [
        "loss_fn = nn.CrossEntropyLoss()\n",
        "optimizer = torch.optim.SGD(model.parameters(), lr=0.1)"
      ],
      "metadata": {
        "id": "RJ_QC1drbQAm"
      },
      "execution_count": 3,
      "outputs": []
    },
    {
      "cell_type": "markdown",
      "source": [
        "## **학습 루프**"
      ],
      "metadata": {
        "id": "9S5SrmLidCF2"
      }
    },
    {
      "cell_type": "code",
      "source": [
        "for epoch in range(5):\n",
        "    for x, y in train_loader:\n",
        "        y_hat = model(x)\n",
        "        loss = loss_fn(y_hat, y)\n",
        "\n",
        "        optimizer.zero_grad()\n",
        "        loss.backward()\n",
        "        optimizer.step()"
      ],
      "metadata": {
        "id": "Rbx18JfqdJgt"
      },
      "execution_count": 4,
      "outputs": []
    },
    {
      "cell_type": "markdown",
      "source": [
        "## **정확도 평가**"
      ],
      "metadata": {
        "id": "zP-0YG6edOtW"
      }
    },
    {
      "cell_type": "code",
      "source": [
        "correct = 0\n",
        "total = 0\n",
        "with torch.no_grad():\n",
        "    for x, y in test_loader:\n",
        "        y_hat = model(x)\n",
        "        predicted = y_hat.argmax(dim=1)\n",
        "        correct += (predicted == y).sum().item()\n",
        "        total += y.size(0)"
      ],
      "metadata": {
        "id": "AdwMHv-vbQwF"
      },
      "execution_count": 5,
      "outputs": []
    },
    {
      "cell_type": "markdown",
      "source": [
        "## **결과 출력**"
      ],
      "metadata": {
        "id": "WGrAadsCf3VE"
      }
    },
    {
      "cell_type": "code",
      "source": [
        "print(f\"Test Accuracy: {100 * correct / total:.2f}%\")"
      ],
      "metadata": {
        "colab": {
          "base_uri": "https://localhost:8080/"
        },
        "id": "chnR4X0xf2vL",
        "outputId": "bcb8dddb-b42e-40e2-e2a5-9c27533211ff"
      },
      "execution_count": 6,
      "outputs": [
        {
          "output_type": "stream",
          "name": "stdout",
          "text": [
            "Test Accuracy: 96.74%\n"
          ]
        }
      ]
    }
  ]
}